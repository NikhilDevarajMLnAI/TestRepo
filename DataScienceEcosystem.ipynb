{
 "cells": [
  {
   "cell_type": "markdown",
   "id": "9021514a-ff73-472a-a6de-ca90f81c0d07",
   "metadata": {},
   "source": [
    "# Data Science Tools and Ecosystem"
   ]
  },
  {
   "cell_type": "markdown",
   "id": "ab0777e1-8857-4474-ab7e-7703c8a72b0d",
   "metadata": {},
   "source": [
    "**Objectives:**\n",
    "* Python\n",
    "* R\n",
    "* SQL\n",
    "* Java\n",
    "* C/C++"
   ]
  },
  {
   "cell_type": "markdown",
   "id": "a604b568-2c79-4996-b584-121decc46bad",
   "metadata": {},
   "source": [
    "In this notebook, Data Science Tools and Ecosystem are summarized."
   ]
  },
  {
   "cell_type": "markdown",
   "id": "94288730-502e-43ac-861e-dd1d6e2618ed",
   "metadata": {},
   "source": [
    "Some of the popular languages that Data Scientists use are:\n",
    "1. Python\n",
    "2. R\n",
    "3. SQL"
   ]
  },
  {
   "cell_type": "markdown",
   "id": "9ccbf381-6af1-4bc8-ad4a-f78e26018fd4",
   "metadata": {},
   "source": [
    "Some of the commonly used libraries used by Data Scientists include:\n",
    "* NumPy\n",
    "* Keras\n",
    "* Pandas\n",
    "* PyTorch\n",
    "* SciPy\n",
    "* Scikit-learn\n",
    "* TensorFlow\n",
    "* Matplotlib"
   ]
  },
  {
   "cell_type": "markdown",
   "id": "16807bf5-6590-4a49-a392-101fb49b77aa",
   "metadata": {
    "jp-MarkdownHeadingCollapsed": true
   },
   "source": [
    "Data Science Tools |\n",
    "-------------------- |\n",
    "Apache Hadoop |\n",
    "Apache Spark |\n",
    "Seaborn |"
   ]
  },
  {
   "cell_type": "markdown",
   "id": "b45a8680-03dc-4e7d-8363-a9392e3a133e",
   "metadata": {},
   "source": [
    "### Below are a few examples of evaluating arithmetic expressions in Python"
   ]
  },
  {
   "cell_type": "code",
   "execution_count": 3,
   "id": "e2e7f41a-fa6f-4cca-b69f-c79749948d5d",
   "metadata": {},
   "outputs": [
    {
     "data": {
      "text/plain": [
       "17"
      ]
     },
     "execution_count": 3,
     "metadata": {},
     "output_type": "execute_result"
    }
   ],
   "source": [
    "#This a simple arithmetic expression to mutiply then add integers\n",
    "\n",
    "(3*4)+5"
   ]
  },
  {
   "cell_type": "code",
   "execution_count": 4,
   "id": "95c67b3f-6710-4aa0-ba7a-d0577991f4ff",
   "metadata": {
    "scrolled": true
   },
   "outputs": [
    {
     "name": "stdout",
     "output_type": "stream",
     "text": [
      "3.3333333333333335\n"
     ]
    }
   ],
   "source": [
    "#This will convert 200 minutes to hours by diving by 60\n",
    "minutes=200\n",
    "hours=minutes/60\n",
    "print(hours)"
   ]
  },
  {
   "cell_type": "markdown",
   "id": "c97316e7-298f-49fb-bf77-65e955e4682b",
   "metadata": {},
   "source": [
    "## Author\n",
    "Nikhil"
   ]
  },
  {
   "cell_type": "code",
   "execution_count": null,
   "id": "ebcc5002-b9c2-4463-9187-f5fada3e74bb",
   "metadata": {},
   "outputs": [],
   "source": []
  }
 ],
 "metadata": {
  "kernelspec": {
   "display_name": "Python 3 (ipykernel)",
   "language": "python",
   "name": "python3"
  },
  "language_info": {
   "codemirror_mode": {
    "name": "ipython",
    "version": 3
   },
   "file_extension": ".py",
   "mimetype": "text/x-python",
   "name": "python",
   "nbconvert_exporter": "python",
   "pygments_lexer": "ipython3",
   "version": "3.12.8"
  }
 },
 "nbformat": 4,
 "nbformat_minor": 5
}
